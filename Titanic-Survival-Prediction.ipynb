{
 "cells": [
  {
   "cell_type": "markdown",
   "id": "7b5038f3-2984-4226-953f-175d9f417a1a",
   "metadata": {},
   "source": [
    "# Titanic Survival Prediction 🚢\n",
    "### **A Machine Learning Project using Python**\n",
    "#### **By [Burhanuddin Arsiwala]**\n",
    "---\n",
    "### **🔹 Project Overview**\n",
    "Ye project ek **Machine Learning model** banata hai jo predict karta hai ki Titanic ke passengers survive karenge ya nahi.\n",
    "Hum **Pandas, Seaborn, Matplotlib, aur Scikit-Learn** ka use karke data analysis aur model training karte hain.\n",
    "---\n",
    "### **🔹 Steps Followed:**\n",
    "1️⃣ **Data Collection** - Titanic dataset ko load kiya  \n",
    "2️⃣ **Data Cleaning** - Missing values ko fill kiya  \n",
    "3️⃣ **Exploratory Data Analysis (EDA)** - Data visualization kiya  \n",
    "4️⃣ **Feature Engineering** - Important features choose kiye  \n",
    "5️⃣ **Model Training** - Random Forest Classifier lagaya  \n",
    "6️⃣ **Model Evaluation** - Accuracy score nikala  \n",
    "---\n",
    "### **🔹 Results**\n",
    "✅ Model ki accuracy: **[Your Accuracy]%**  \n",
    "✅ Male vs Female survival rate analysis  \n",
    "✅ Passenger class-wise survival rate  \n",
    "✅ Graphs aur visualizations jo recruiter ko impress karein!  \n",
    "---\n",
    "### **🔹 Skills Used**\n",
    "✔ Python  \n",
    "✔ Pandas  \n",
    "✔ Data Visualization (Matplotlib & Seaborn)  \n",
    "✔ Machine Learning (Scikit-Learn)  \n",
    "✔ Model Training & Evaluation  \n",
    "---\n",
    "🎯 **Is project se main AI/ML aur Data Science skills ko showcase kar sakta hoon!**\n"
   ]
  },
  {
   "cell_type": "markdown",
   "id": "4a42316c",
   "metadata": {},
   "source": []
  },
  {
   "cell_type": "markdown",
   "id": "3b291a3f-69ff-480e-84d4-e2b6c593df6e",
   "metadata": {},
   "source": [
    "import pandas as pd\n",
    "\n",
    "# Titanic dataset load karna\n",
    "url = \"https://raw.githubusercontent.com/datasciencedojo/datasets/master/titanic.csv\"\n",
    "df = pd.read_csv(url)\n",
    "\n",
    "# Pehli 5 rows dekhna\n",
    "print(df.head())\n"
   ]
  },
  {
   "cell_type": "code",
   "execution_count": 19,
   "id": "b0a8fe98-84f7-43c5-bcd5-be68a71894f4",
   "metadata": {},
   "outputs": [
    {
     "name": "stdout",
     "output_type": "stream",
     "text": [
      "<class 'pandas.core.frame.DataFrame'>\n",
      "RangeIndex: 891 entries, 0 to 890\n",
      "Data columns (total 12 columns):\n",
      " #   Column       Non-Null Count  Dtype  \n",
      "---  ------       --------------  -----  \n",
      " 0   PassengerId  891 non-null    int64  \n",
      " 1   Survived     891 non-null    int64  \n",
      " 2   Pclass       891 non-null    int64  \n",
      " 3   Name         891 non-null    object \n",
      " 4   Sex          891 non-null    object \n",
      " 5   Age          714 non-null    float64\n",
      " 6   SibSp        891 non-null    int64  \n",
      " 7   Parch        891 non-null    int64  \n",
      " 8   Ticket       891 non-null    object \n",
      " 9   Fare         891 non-null    float64\n",
      " 10  Cabin        204 non-null    object \n",
      " 11  Embarked     889 non-null    object \n",
      "dtypes: float64(2), int64(5), object(5)\n",
      "memory usage: 83.7+ KB\n",
      "None\n",
      "PassengerId      0\n",
      "Survived         0\n",
      "Pclass           0\n",
      "Name             0\n",
      "Sex              0\n",
      "Age            177\n",
      "SibSp            0\n",
      "Parch            0\n",
      "Ticket           0\n",
      "Fare             0\n",
      "Cabin          687\n",
      "Embarked         2\n",
      "dtype: int64\n",
      "(891, 12)\n"
     ]
    }
   ],
   "source": [
    "# Columns ki summary\n",
    "print(df.info())\n",
    "\n",
    "# Missing values check karna\n",
    "print(df.isnull().sum())\n",
    "\n",
    "# Dataset ka size check karna\n",
    "print(df.shape)\n"
   ]
  },
  {
   "cell_type": "code",
   "execution_count": 20,
   "id": "2fe9c4c8-d837-45d8-9c41-77131e53d3fc",
   "metadata": {},
   "outputs": [
    {
     "name": "stdout",
     "output_type": "stream",
     "text": [
      "PassengerId    0\n",
      "Survived       0\n",
      "Pclass         0\n",
      "Name           0\n",
      "Sex            0\n",
      "Age            0\n",
      "SibSp          0\n",
      "Parch          0\n",
      "Ticket         0\n",
      "Fare           0\n",
      "Embarked       0\n",
      "dtype: int64\n"
     ]
    },
    {
     "name": "stderr",
     "output_type": "stream",
     "text": [
      "C:\\Users\\burha\\AppData\\Local\\Temp\\ipykernel_15204\\3762430309.py:2: FutureWarning: A value is trying to be set on a copy of a DataFrame or Series through chained assignment using an inplace method.\n",
      "The behavior will change in pandas 3.0. This inplace method will never work because the intermediate object on which we are setting values always behaves as a copy.\n",
      "\n",
      "For example, when doing 'df[col].method(value, inplace=True)', try using 'df.method({col: value}, inplace=True)' or df[col] = df[col].method(value) instead, to perform the operation inplace on the original object.\n",
      "\n",
      "\n",
      "  df['Age'].fillna(df['Age'].median(), inplace=True)\n",
      "C:\\Users\\burha\\AppData\\Local\\Temp\\ipykernel_15204\\3762430309.py:3: FutureWarning: A value is trying to be set on a copy of a DataFrame or Series through chained assignment using an inplace method.\n",
      "The behavior will change in pandas 3.0. This inplace method will never work because the intermediate object on which we are setting values always behaves as a copy.\n",
      "\n",
      "For example, when doing 'df[col].method(value, inplace=True)', try using 'df.method({col: value}, inplace=True)' or df[col] = df[col].method(value) instead, to perform the operation inplace on the original object.\n",
      "\n",
      "\n",
      "  df['Embarked'].fillna(df['Embarked'].mode()[0], inplace=True)\n"
     ]
    }
   ],
   "source": [
    "# Missing values ko fill karna\n",
    "df['Age'].fillna(df['Age'].median(), inplace=True)\n",
    "df['Embarked'].fillna(df['Embarked'].mode()[0], inplace=True)\n",
    "\n",
    "# Cabin column ko hata dena (kyunki kaafi missing hai)\n",
    "df.drop(columns=['Cabin'], inplace=True)\n",
    "\n",
    "# Dubara check karna missing values\n",
    "print(df.isnull().sum())\n"
   ]
  },
  {
   "cell_type": "code",
   "execution_count": 21,
   "id": "dc4debfe-2517-4172-96c3-7b1d5c2b27dd",
   "metadata": {},
   "outputs": [
    {
     "name": "stdout",
     "output_type": "stream",
     "text": [
      "Sex\n",
      "female    0.742038\n",
      "male      0.188908\n",
      "Name: Survived, dtype: float64\n"
     ]
    }
   ],
   "source": [
    "print(df.groupby('Sex')['Survived'].mean())\n"
   ]
  },
  {
   "cell_type": "code",
   "execution_count": 22,
   "id": "ed331df4-823e-4e99-ad25-8408ba2f9986",
   "metadata": {},
   "outputs": [
    {
     "name": "stdout",
     "output_type": "stream",
     "text": [
      "Pclass\n",
      "1    0.629630\n",
      "2    0.472826\n",
      "3    0.242363\n",
      "Name: Survived, dtype: float64\n"
     ]
    }
   ],
   "source": [
    "print(df.groupby('Pclass')['Survived'].mean())\n"
   ]
  },
  {
   "cell_type": "code",
   "execution_count": 23,
   "id": "8aaa9d8d-b9d5-4d6a-bab2-c1de0f6904e2",
   "metadata": {},
   "outputs": [],
   "source": [
    "import matplotlib.pyplot as plt\n",
    "import seaborn as sns\n"
   ]
  },
  {
   "cell_type": "code",
   "execution_count": 24,
   "id": "192667c0-f2ba-49dc-b0fb-650090c173e8",
   "metadata": {},
   "outputs": [
    {
     "name": "stdout",
     "output_type": "stream",
     "text": [
      "Requirement already satisfied: matplotlib in c:\\users\\burha\\appdata\\local\\programs\\python\\python313\\lib\\site-packages (3.10.1)\n",
      "Requirement already satisfied: seaborn in c:\\users\\burha\\appdata\\local\\programs\\python\\python313\\lib\\site-packages (0.13.2)\n",
      "Requirement already satisfied: contourpy>=1.0.1 in c:\\users\\burha\\appdata\\local\\programs\\python\\python313\\lib\\site-packages (from matplotlib) (1.3.1)\n",
      "Requirement already satisfied: cycler>=0.10 in c:\\users\\burha\\appdata\\local\\programs\\python\\python313\\lib\\site-packages (from matplotlib) (0.12.1)\n",
      "Requirement already satisfied: fonttools>=4.22.0 in c:\\users\\burha\\appdata\\local\\programs\\python\\python313\\lib\\site-packages (from matplotlib) (4.56.0)\n",
      "Requirement already satisfied: kiwisolver>=1.3.1 in c:\\users\\burha\\appdata\\local\\programs\\python\\python313\\lib\\site-packages (from matplotlib) (1.4.8)\n",
      "Requirement already satisfied: numpy>=1.23 in c:\\users\\burha\\appdata\\local\\programs\\python\\python313\\lib\\site-packages (from matplotlib) (2.2.4)\n",
      "Requirement already satisfied: packaging>=20.0 in c:\\users\\burha\\appdata\\local\\programs\\python\\python313\\lib\\site-packages (from matplotlib) (24.2)\n",
      "Requirement already satisfied: pillow>=8 in c:\\users\\burha\\appdata\\local\\programs\\python\\python313\\lib\\site-packages (from matplotlib) (11.1.0)\n",
      "Requirement already satisfied: pyparsing>=2.3.1 in c:\\users\\burha\\appdata\\local\\programs\\python\\python313\\lib\\site-packages (from matplotlib) (3.2.1)\n",
      "Requirement already satisfied: python-dateutil>=2.7 in c:\\users\\burha\\appdata\\local\\programs\\python\\python313\\lib\\site-packages (from matplotlib) (2.9.0.post0)\n",
      "Requirement already satisfied: pandas>=1.2 in c:\\users\\burha\\appdata\\local\\programs\\python\\python313\\lib\\site-packages (from seaborn) (2.2.3)\n",
      "Requirement already satisfied: pytz>=2020.1 in c:\\users\\burha\\appdata\\local\\programs\\python\\python313\\lib\\site-packages (from pandas>=1.2->seaborn) (2025.1)\n",
      "Requirement already satisfied: tzdata>=2022.7 in c:\\users\\burha\\appdata\\local\\programs\\python\\python313\\lib\\site-packages (from pandas>=1.2->seaborn) (2025.1)\n",
      "Requirement already satisfied: six>=1.5 in c:\\users\\burha\\appdata\\local\\programs\\python\\python313\\lib\\site-packages (from python-dateutil>=2.7->matplotlib) (1.17.0)\n"
     ]
    }
   ],
   "source": [
    "!pip install matplotlib seaborn\n"
   ]
  },
  {
   "cell_type": "code",
   "execution_count": 25,
   "id": "bd0e8d32-79f6-4bf7-a90c-c7c013d41559",
   "metadata": {},
   "outputs": [
    {
     "name": "stdout",
     "output_type": "stream",
     "text": [
      "Matplotlib & Seaborn Installed Successfully!\n"
     ]
    }
   ],
   "source": [
    "import matplotlib.pyplot as plt\n",
    "import seaborn as sns\n",
    "\n",
    "print(\"Matplotlib & Seaborn Installed Successfully!\")\n"
   ]
  },
  {
   "cell_type": "code",
   "execution_count": 9,
   "id": "4b43fee7-2b2e-4a5c-a4db-dda382e81570",
   "metadata": {},
   "outputs": [],
   "source": [
    "import matplotlib.pyplot as plt\n",
    "import seaborn as sns\n"
   ]
  },
  {
   "cell_type": "code",
   "execution_count": 10,
   "id": "99e23622-3c61-4af4-a500-4fe658165201",
   "metadata": {},
   "outputs": [
    {
     "data": {
      "image/png": "[encoded data removed]",
      "text/plain": [
       "<Figure size 640x480 with 1 Axes>"
      ]
     },
     "metadata": {},
     "output_type": "display_data"
    }
   ],
   "source": [
    "sns.barplot(x=\"Sex\", y=\"Survived\", data=df)\n",
    "plt.title(\"Survival Rate by Gender\")\n",
    "plt.show()\n"
   ]
  },
  {
   "cell_type": "code",
   "execution_count": 11,
   "id": "3d98d418-ed44-42d6-8d0b-6bc3f6fe2bb5",
   "metadata": {},
   "outputs": [
    {
     "data": {
      "image/png": "[encoded data removed]",
      "text/plain": [
       "<Figure size 640x480 with 1 Axes>"
      ]
     },
     "metadata": {},
     "output_type": "display_data"
    }
   ],
   "source": [
    "sns.barplot(x=\"Pclass\", y=\"Survived\", data=df)\n",
    "plt.title(\"Survival Rate by Class\")\n",
    "plt.show()\n"
   ]
  },
  {
   "cell_type": "code",
   "execution_count": 12,
   "id": "436effa5-89a0-415e-9754-9fb8ae6cf539",
   "metadata": {},
   "outputs": [
    {
     "data": {
      "image/png": "[encoded data removed]",
      "text/plain": [
       "<Figure size 640x480 with 1 Axes>"
      ]
     },
     "metadata": {},
     "output_type": "display_data"
    }
   ],
   "source": [
    "sns.barplot(x=\"Sex\", y=\"Survived\", data=df)\n",
    "plt.title(\"Survival Rate by Gender\")\n",
    "plt.show()\n"
   ]
  },
  {
   "cell_type": "code",
   "execution_count": 13,
   "id": "99adf088-5585-4379-8515-b30af0c1910f",
   "metadata": {},
   "outputs": [
    {
     "data": {
      "image/png": "[encoded data removed]",
      "text/plain": [
       "<Figure size 640x480 with 1 Axes>"
      ]
     },
     "metadata": {},
     "output_type": "display_data"
    }
   ],
   "source": [
    "sns.barplot(x=\"Pclass\", y=\"Survived\", data=df)\n",
    "plt.title(\"Survival Rate by Passenger Class\")\n",
    "plt.show()\n"
   ]
  },
  {
   "cell_type": "code",
   "execution_count": 14,
   "id": "25ffd6fd-8547-404d-ad5c-783fef43539e",
   "metadata": {},
   "outputs": [
    {
     "data": {
      "image/png": "[encoded data removed]",
      "text/plain": [
       "<Figure size 640x480 with 1 Axes>"
      ]
     },
     "metadata": {},
     "output_type": "display_data"
    }
   ],
   "source": [
    "plt.hist(df[df['Survived'] == 1]['Age'], bins=20, alpha=0.7, label='Survived')\n",
    "plt.hist(df[df['Survived'] == 0]['Age'], bins=20, alpha=0.7, label='Not Survived')\n",
    "plt.xlabel(\"Age\")\n",
    "plt.ylabel(\"Count\")\n",
    "plt.title(\"Age Distribution of Survivors vs Non-Survivors\")\n",
    "plt.legend()\n",
    "plt.show()\n"
   ]
  },
  {
   "cell_type": "code",
   "execution_count": 15,
   "id": "80f5a0d0-f776-4942-9e57-dc0d62e5f2d0",
   "metadata": {},
   "outputs": [
    {
     "name": "stdout",
     "output_type": "stream",
     "text": [
      "Collecting scikit-learn\n",
      "  Downloading scikit_learn-1.6.1-cp313-cp313-win_amd64.whl.metadata (15 kB)\n",
      "Requirement already satisfied: numpy>=1.19.5 in c:\\users\\burha\\appdata\\local\\programs\\python\\python313\\lib\\site-packages (from scikit-learn) (2.2.4)\n",
      "Collecting scipy>=1.6.0 (from scikit-learn)\n",
      "  Downloading scipy-1.15.2-cp313-cp313-win_amd64.whl.metadata (60 kB)\n",
      "Collecting joblib>=1.2.0 (from scikit-learn)\n",
      "  Downloading joblib-1.4.2-py3-none-any.whl.metadata (5.4 kB)\n",
      "Collecting threadpoolctl>=3.1.0 (from scikit-learn)\n",
      "  Downloading threadpoolctl-3.6.0-py3-none-any.whl.metadata (13 kB)\n",
      "Downloading scikit_learn-1.6.1-cp313-cp313-win_amd64.whl (11.1 MB)\n",
      "   ---------------------------------------- 0.0/11.1 MB ? eta -:--:--\n",
      "   - -------------------------------------- 0.5/11.1 MB 3.0 MB/s eta 0:00:04\n",
      "   --- ------------------------------------ 1.0/11.1 MB 2.9 MB/s eta 0:00:04\n",
      "   ----- ---------------------------------- 1.6/11.1 MB 2.8 MB/s eta 0:00:04\n",
      "   -------- ------------------------------- 2.4/11.1 MB 2.8 MB/s eta 0:00:04\n",
      "   ---------- ----------------------------- 2.9/11.1 MB 2.8 MB/s eta 0:00:03\n",
      "   ------------- -------------------------- 3.7/11.1 MB 2.9 MB/s eta 0:00:03\n",
      "   --------------- ------------------------ 4.2/11.1 MB 2.9 MB/s eta 0:00:03\n",
      "   ---------------- ----------------------- 4.5/11.1 MB 2.7 MB/s eta 0:00:03\n",
      "   ----------------- ---------------------- 5.0/11.1 MB 2.7 MB/s eta 0:00:03\n",
      "   ------------------- -------------------- 5.5/11.1 MB 2.7 MB/s eta 0:00:03\n",
      "   --------------------- ------------------ 6.0/11.1 MB 2.7 MB/s eta 0:00:02\n",
      "   ------------------------ --------------- 6.8/11.1 MB 2.7 MB/s eta 0:00:02\n",
      "   ------------------------- -------------- 7.1/11.1 MB 2.7 MB/s eta 0:00:02\n",
      "   --------------------------- ------------ 7.6/11.1 MB 2.6 MB/s eta 0:00:02\n",
      "   ----------------------------- ---------- 8.1/11.1 MB 2.6 MB/s eta 0:00:02\n",
      "   ------------------------------- -------- 8.7/11.1 MB 2.6 MB/s eta 0:00:01\n",
      "   --------------------------------- ------ 9.2/11.1 MB 2.6 MB/s eta 0:00:01\n",
      "   ----------------------------------- ---- 9.7/11.1 MB 2.6 MB/s eta 0:00:01\n",
      "   ------------------------------------- -- 10.5/11.1 MB 2.6 MB/s eta 0:00:01\n",
      "   ---------------------------------------  11.0/11.1 MB 2.6 MB/s eta 0:00:01\n",
      "   ---------------------------------------- 11.1/11.1 MB 2.6 MB/s eta 0:00:00\n",
      "Downloading joblib-1.4.2-py3-none-any.whl (301 kB)\n",
      "Downloading scipy-1.15.2-cp313-cp313-win_amd64.whl (41.0 MB)\n",
      "   ---------------------------------------- 0.0/41.0 MB ? eta -:--:--\n",
      "   ---------------------------------------- 0.3/41.0 MB ? eta -:--:--\n",
      "    --------------------------------------- 0.8/41.0 MB 2.6 MB/s eta 0:00:16\n",
      "   - -------------------------------------- 1.3/41.0 MB 2.5 MB/s eta 0:00:16\n",
      "   - -------------------------------------- 1.8/41.0 MB 2.4 MB/s eta 0:00:17\n",
      "   -- ------------------------------------- 2.4/41.0 MB 2.5 MB/s eta 0:00:16\n",
      "   -- ------------------------------------- 2.9/41.0 MB 2.4 MB/s eta 0:00:16\n",
      "   --- ------------------------------------ 3.1/41.0 MB 2.4 MB/s eta 0:00:16\n",
      "   --- ------------------------------------ 3.7/41.0 MB 2.4 MB/s eta 0:00:16\n",
      "   ---- ----------------------------------- 4.2/41.0 MB 2.4 MB/s eta 0:00:16\n",
      "   ---- ----------------------------------- 4.7/41.0 MB 2.4 MB/s eta 0:00:16\n",
      "   ----- ---------------------------------- 5.2/41.0 MB 2.4 MB/s eta 0:00:15\n",
      "   ----- ---------------------------------- 5.8/41.0 MB 2.4 MB/s eta 0:00:15\n",
      "   ------ --------------------------------- 6.3/41.0 MB 2.4 MB/s eta 0:00:15\n",
      "   ------ --------------------------------- 6.8/41.0 MB 2.4 MB/s eta 0:00:14\n",
      "   ------- -------------------------------- 7.3/41.0 MB 2.5 MB/s eta 0:00:14\n",
      "   ------- -------------------------------- 8.1/41.0 MB 2.5 MB/s eta 0:00:14\n",
      "   -------- ------------------------------- 8.7/41.0 MB 2.5 MB/s eta 0:00:13\n",
      "   -------- ------------------------------- 9.2/41.0 MB 2.5 MB/s eta 0:00:13\n",
      "   --------- ------------------------------ 9.7/41.0 MB 2.5 MB/s eta 0:00:13\n",
      "   ---------- ----------------------------- 10.5/41.0 MB 2.6 MB/s eta 0:00:12\n",
      "   ---------- ----------------------------- 11.0/41.0 MB 2.6 MB/s eta 0:00:12\n",
      "   ----------- ---------------------------- 11.5/41.0 MB 2.6 MB/s eta 0:00:12\n",
      "   ----------- ---------------------------- 12.1/41.0 MB 2.6 MB/s eta 0:00:12\n",
      "   ------------ --------------------------- 12.6/41.0 MB 2.6 MB/s eta 0:00:12\n",
      "   ------------ --------------------------- 13.1/41.0 MB 2.6 MB/s eta 0:00:11\n",
      "   ------------- -------------------------- 13.6/41.0 MB 2.6 MB/s eta 0:00:11\n",
      "   ------------- -------------------------- 14.2/41.0 MB 2.6 MB/s eta 0:00:11\n",
      "   -------------- ------------------------- 14.4/41.0 MB 2.5 MB/s eta 0:00:11\n",
      "   -------------- ------------------------- 15.2/41.0 MB 2.5 MB/s eta 0:00:11\n",
      "   --------------- ------------------------ 15.7/41.0 MB 2.6 MB/s eta 0:00:10\n",
      "   --------------- ------------------------ 16.0/41.0 MB 2.5 MB/s eta 0:00:10\n",
      "   ---------------- ----------------------- 16.5/41.0 MB 2.5 MB/s eta 0:00:10\n",
      "   ---------------- ----------------------- 17.0/41.0 MB 2.5 MB/s eta 0:00:10\n",
      "   ----------------- ---------------------- 17.6/41.0 MB 2.5 MB/s eta 0:00:10\n",
      "   ----------------- ---------------------- 18.4/41.0 MB 2.6 MB/s eta 0:00:09\n",
      "   ------------------ --------------------- 18.9/41.0 MB 2.6 MB/s eta 0:00:09\n",
      "   ------------------ --------------------- 19.4/41.0 MB 2.6 MB/s eta 0:00:09\n",
      "   ------------------- -------------------- 20.2/41.0 MB 2.6 MB/s eta 0:00:09\n",
      "   -------------------- ------------------- 20.7/41.0 MB 2.6 MB/s eta 0:00:08\n",
      "   -------------------- ------------------- 21.2/41.0 MB 2.6 MB/s eta 0:00:08\n",
      "   -------------------- ------------------- 21.5/41.0 MB 2.6 MB/s eta 0:00:08\n",
      "   --------------------- ------------------ 21.8/41.0 MB 2.5 MB/s eta 0:00:08\n",
      "   --------------------- ------------------ 22.0/41.0 MB 2.5 MB/s eta 0:00:08\n",
      "   ---------------------- ----------------- 22.5/41.0 MB 2.5 MB/s eta 0:00:08\n",
      "   ---------------------- ----------------- 22.8/41.0 MB 2.5 MB/s eta 0:00:08\n",
      "   ---------------------- ----------------- 23.3/41.0 MB 2.5 MB/s eta 0:00:08\n",
      "   ----------------------- ---------------- 23.9/41.0 MB 2.5 MB/s eta 0:00:07\n",
      "   ----------------------- ---------------- 24.4/41.0 MB 2.5 MB/s eta 0:00:07\n",
      "   ------------------------ --------------- 24.9/41.0 MB 2.5 MB/s eta 0:00:07\n",
      "   ------------------------ --------------- 25.4/41.0 MB 2.5 MB/s eta 0:00:07\n",
      "   ------------------------- -------------- 26.0/41.0 MB 2.5 MB/s eta 0:00:07\n",
      "   ------------------------- -------------- 26.5/41.0 MB 2.5 MB/s eta 0:00:06\n",
      "   -------------------------- ------------- 27.0/41.0 MB 2.5 MB/s eta 0:00:06\n",
      "   -------------------------- ------------- 27.5/41.0 MB 2.5 MB/s eta 0:00:06\n",
      "   --------------------------- ------------ 28.0/41.0 MB 2.5 MB/s eta 0:00:06\n",
      "   --------------------------- ------------ 28.6/41.0 MB 2.5 MB/s eta 0:00:05\n",
      "   ---------------------------- ----------- 29.1/41.0 MB 2.5 MB/s eta 0:00:05\n",
      "   ---------------------------- ----------- 29.6/41.0 MB 2.5 MB/s eta 0:00:05\n",
      "   ----------------------------- ---------- 30.1/41.0 MB 2.5 MB/s eta 0:00:05\n",
      "   ----------------------------- ---------- 30.7/41.0 MB 2.5 MB/s eta 0:00:05\n",
      "   ------------------------------ --------- 31.5/41.0 MB 2.5 MB/s eta 0:00:04\n",
      "   ------------------------------- -------- 32.0/41.0 MB 2.5 MB/s eta 0:00:04\n",
      "   ------------------------------- -------- 32.5/41.0 MB 2.5 MB/s eta 0:00:04\n",
      "   -------------------------------- ------- 33.0/41.0 MB 2.5 MB/s eta 0:00:04\n",
      "   -------------------------------- ------- 33.6/41.0 MB 2.5 MB/s eta 0:00:03\n",
      "   --------------------------------- ------ 34.1/41.0 MB 2.5 MB/s eta 0:00:03\n",
      "   ---------------------------------- ----- 34.9/41.0 MB 2.5 MB/s eta 0:00:03\n",
      "   ---------------------------------- ----- 35.1/41.0 MB 2.5 MB/s eta 0:00:03\n",
      "   ---------------------------------- ----- 35.7/41.0 MB 2.5 MB/s eta 0:00:03\n",
      "   ----------------------------------- ---- 35.9/41.0 MB 2.5 MB/s eta 0:00:03\n",
      "   ----------------------------------- ---- 36.7/41.0 MB 2.5 MB/s eta 0:00:02\n",
      "   ------------------------------------ --- 37.2/41.0 MB 2.5 MB/s eta 0:00:02\n",
      "   ------------------------------------- -- 38.0/41.0 MB 2.5 MB/s eta 0:00:02\n",
      "   ------------------------------------- -- 38.5/41.0 MB 2.5 MB/s eta 0:00:01\n",
      "   -------------------------------------- - 39.1/41.0 MB 2.5 MB/s eta 0:00:01\n",
      "   -------------------------------------- - 39.6/41.0 MB 2.5 MB/s eta 0:00:01\n",
      "   -------------------------------------- - 39.8/41.0 MB 2.5 MB/s eta 0:00:01\n",
      "   ---------------------------------------  40.1/41.0 MB 2.5 MB/s eta 0:00:01\n",
      "   ---------------------------------------  40.6/41.0 MB 2.5 MB/s eta 0:00:01\n",
      "   ---------------------------------------  40.9/41.0 MB 2.5 MB/s eta 0:00:01\n",
      "   ---------------------------------------- 41.0/41.0 MB 2.5 MB/s eta 0:00:00\n",
      "Downloading threadpoolctl-3.6.0-py3-none-any.whl (18 kB)\n",
      "Installing collected packages: threadpoolctl, scipy, joblib, scikit-learn\n",
      "Successfully installed joblib-1.4.2 scikit-learn-1.6.1 scipy-1.15.2 threadpoolctl-3.6.0\n"
     ]
    }
   ],
   "source": [
    "!pip install scikit-learn\n"
   ]
  },
  {
   "cell_type": "code",
   "execution_count": 16,
   "id": "63a3b5ee-39a9-4649-ad65-98a50189f528",
   "metadata": {},
   "outputs": [
    {
     "name": "stderr",
     "output_type": "stream",
     "text": [
      "C:\\Users\\burha\\AppData\\Local\\Temp\\ipykernel_15204\\2012134114.py:10: FutureWarning: A value is trying to be set on a copy of a DataFrame or Series through chained assignment using an inplace method.\n",
      "The behavior will change in pandas 3.0. This inplace method will never work because the intermediate object on which we are setting values always behaves as a copy.\n",
      "\n",
      "For example, when doing 'df[col].method(value, inplace=True)', try using 'df.method({col: value}, inplace=True)' or df[col] = df[col].method(value) instead, to perform the operation inplace on the original object.\n",
      "\n",
      "\n",
      "  df['Age'].fillna(df['Age'].median(), inplace=True)\n",
      "C:\\Users\\burha\\AppData\\Local\\Temp\\ipykernel_15204\\2012134114.py:11: FutureWarning: A value is trying to be set on a copy of a DataFrame or Series through chained assignment using an inplace method.\n",
      "The behavior will change in pandas 3.0. This inplace method will never work because the intermediate object on which we are setting values always behaves as a copy.\n",
      "\n",
      "For example, when doing 'df[col].method(value, inplace=True)', try using 'df.method({col: value}, inplace=True)' or df[col] = df[col].method(value) instead, to perform the operation inplace on the original object.\n",
      "\n",
      "\n",
      "  df['Embarked'].fillna(df['Embarked'].mode()[0], inplace=True)\n"
     ]
    }
   ],
   "source": [
    "import pandas as pd\n",
    "from sklearn.model_selection import train_test_split\n",
    "from sklearn.ensemble import RandomForestClassifier\n",
    "from sklearn.metrics import accuracy_score\n",
    "\n",
    "# Important features select karna\n",
    "df = df[['Survived', 'Pclass', 'Sex', 'Age', 'SibSp', 'Parch', 'Fare', 'Embarked']]\n",
    "\n",
    "# Missing values ko fill karna\n",
    "df['Age'].fillna(df['Age'].median(), inplace=True)\n",
    "df['Embarked'].fillna(df['Embarked'].mode()[0], inplace=True)\n",
    "\n",
    "# Categorical variables (Sex & Embarked) ko numeric me convert karna\n",
    "df = pd.get_dummies(df, columns=['Sex', 'Embarked'], drop_first=True)\n",
    "\n",
    "# Input (X) aur Output (y) split karna\n",
    "X = df.drop(columns=['Survived'])\n",
    "y = df['Survived']\n",
    "\n",
    "# Train-Test Split\n",
    "X_train, X_test, y_train, y_test = train_test_split(X, y, test_size=0.2, random_state=42)\n"
   ]
  },
  {
   "cell_type": "code",
   "execution_count": 17,
   "id": "10e00908-dd2e-468d-a4b5-de0718c64633",
   "metadata": {},
   "outputs": [
    {
     "name": "stdout",
     "output_type": "stream",
     "text": [
      "Model Accuracy: 82.12%\n"
     ]
    }
   ],
   "source": [
    "# Random Forest Classifier Train Karna\n",
    "model = RandomForestClassifier(n_estimators=100, random_state=42)\n",
    "model.fit(X_train, y_train)\n",
    "\n",
    "# Prediction karna\n",
    "y_pred = model.predict(X_test)\n",
    "\n",
    "# Accuracy check karna\n",
    "accuracy = accuracy_score(y_test, y_pred)\n",
    "print(f\"Model Accuracy: {accuracy * 100:.2f}%\")\n"
   ]
  },
  {
   "cell_type": "markdown",
   "id": "8ab507c7-e6d3-4205-b62f-c3079a3dc413",
   "metadata": {},
   "source": []
  }
 ],
 "metadata": {
  "kernelspec": {
   "display_name": "Python 3 (ipykernel)",
   "language": "python",
   "name": "python3"
  },
  "language_info": {
   "codemirror_mode": {
    "name": "ipython",
    "version": 3
   },
   "file_extension": ".py",
   "mimetype": "text/x-python",
   "name": "python",
   "nbconvert_exporter": "python",
   "pygments_lexer": "ipython3",
   "version": "3.13.2"
  }
 },
 "nbformat": 4,
 "nbformat_minor": 5
}
